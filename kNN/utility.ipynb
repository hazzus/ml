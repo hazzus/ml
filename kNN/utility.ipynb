{
 "cells": [
  {
   "cell_type": "markdown",
   "metadata": {},
   "source": [
    "# Utility functions for completing lab kNN"
   ]
  },
  {
   "cell_type": "code",
   "execution_count": 2,
   "metadata": {},
   "outputs": [],
   "source": [
    "import math"
   ]
  },
  {
   "cell_type": "markdown",
   "metadata": {},
   "source": [
    "## Distances"
   ]
  },
  {
   "cell_type": "code",
   "execution_count": 3,
   "metadata": {},
   "outputs": [],
   "source": [
    "def distance(x, y, ival, f1, f2):\n",
    "    assert(len(x) == len(y))\n",
    "    res = ival\n",
    "    # print(x)\n",
    "    for a, b in zip(x, y):\n",
    "        res += f1(a, b)\n",
    "    return f2(res)\n",
    "\n",
    "def euclidian(x, y):\n",
    "    return distance(x[:-1], y[:-1], 0.0,\n",
    "                   lambda x, y: (x - y) ** 2,\n",
    "                   math.sqrt)\n",
    "\n",
    "def manhattan(x, y):\n",
    "    return distance(x[:-1], y[:-1], 0.0,\n",
    "                   lambda x, y: abs(x - y),\n",
    "                   lambda x: x)\n",
    "\n",
    "def chebyshev(x, y):\n",
    "    return distance(x[:-1], y[:-1], [],\n",
    "                   lambda x, y: [abs(x - y)],\n",
    "                   max)"
   ]
  },
  {
   "cell_type": "markdown",
   "metadata": {},
   "source": [
    "## Kernels"
   ]
  },
  {
   "cell_type": "code",
   "execution_count": 4,
   "metadata": {},
   "outputs": [],
   "source": [
    "def kernel(f, dist, param):\n",
    "    x = dist / param\n",
    "    return 1 - f(x) if x < 1 else 0\n",
    "\n",
    "def uniform(dist, param):\n",
    "    return kernel(lambda x: 0, dist, param)\n",
    "\n",
    "def triangular(dist, param):\n",
    "    return kernel(lambda x: x, dist, param)\n",
    "\n",
    "def epanechnikov(dist, param):\n",
    "    return kernel(lambda x: x ** 2, dist, param)\n",
    "\n",
    "def quartic(dist, param):\n",
    "    return epanechnikov(dist, param) ** 2\n",
    "\n",
    "def triweight(dist, param):\n",
    "    return epanechnikov(dist, param) ** 3\n",
    "\n",
    "def tricube(dist, param):\n",
    "    return kernel(lambda x: x ** 3, dist, param) ** 3\n",
    "\n",
    "def gaussian(dist, param):\n",
    "    return math.exp((-1 / 2) * ((dist / param) ** 2))\n",
    "\n",
    "def cosine(dist, param):\n",
    "    x = dist / param\n",
    "    return math.cos(math.pi * x / 2) if x < 1 else 0\n",
    "\n",
    "def logistic(dist, param):\n",
    "    x = dist / param\n",
    "    return 1 / (math.exp(x) + 2 + math.exp(-x))\n",
    "\n",
    "def sigmoid(dist, param):\n",
    "    x = dist / param\n",
    "    return 1 / (math.exp(x) + math.exp(-x))"
   ]
  },
  {
   "cell_type": "markdown",
   "metadata": {},
   "source": [
    "# Windows"
   ]
  },
  {
   "cell_type": "code",
   "execution_count": 5,
   "metadata": {},
   "outputs": [],
   "source": [
    "def window_fixed(param):\n",
    "    return lambda nbs: param\n",
    "\n",
    "def window_variable(param):\n",
    "    return lambda nbs: nbs[param][0]"
   ]
  },
  {
   "cell_type": "markdown",
   "metadata": {},
   "source": [
    "# All together for enumeration"
   ]
  },
  {
   "cell_type": "code",
   "execution_count": 6,
   "metadata": {},
   "outputs": [],
   "source": [
    "distances = [euclidian, manhattan, chebyshev]\n",
    "kernels = [uniform, \n",
    "           triangular, \n",
    "           epanechnikov, \n",
    "           quartic, \n",
    "           triweight, \n",
    "           tricube, \n",
    "           gaussian, \n",
    "           cosine, \n",
    "           logistic, \n",
    "           sigmoid]\n",
    "windows = [window_fixed, window_variable]"
   ]
  }
 ],
 "metadata": {
  "kernelspec": {
   "display_name": "Python 3",
   "language": "python",
   "name": "python3"
  },
  "language_info": {
   "codemirror_mode": {
    "name": "ipython",
    "version": 3
   },
   "file_extension": ".py",
   "mimetype": "text/x-python",
   "name": "python",
   "nbconvert_exporter": "python",
   "pygments_lexer": "ipython3",
   "version": "3.8.2"
  }
 },
 "nbformat": 4,
 "nbformat_minor": 4
}
