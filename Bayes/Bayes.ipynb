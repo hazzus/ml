{
 "cells": [
  {
   "cell_type": "code",
   "execution_count": 42,
   "metadata": {},
   "outputs": [],
   "source": [
    "import enum\n",
    "import os\n",
    "import copy\n",
    "import math\n",
    "\n",
    "import pandas as pd\n",
    "import numpy as np\n",
    "from tqdm.notebook import tqdm as log_progress\n",
    "import matplotlib.pyplot as plt"
   ]
  },
  {
   "cell_type": "markdown",
   "metadata": {},
   "source": [
    "# Parsing messages"
   ]
  },
  {
   "cell_type": "code",
   "execution_count": 3,
   "metadata": {},
   "outputs": [],
   "source": [
    "class Message:\n",
    "    def __init__(self, lines, filepath):\n",
    "        assert(len(lines) == 4)\n",
    "        assert(lines[0].startswith('Subject:'))\n",
    "        \n",
    "        subject = lines[0][8:].strip()\n",
    "        self.text = [] if subject == '' else list(map(int, subject.split()))\n",
    "        \n",
    "        self.text += list(map(int, lines[2].split()))\n",
    "        self.filename = os.path.basename(filepath)\n",
    "        self.is_spam = filepath.find('spmsg') >= 0\n",
    "            \n",
    "            \n",
    "    def __len__(self):\n",
    "        return len(self.text)\n",
    "        \n",
    "        \n",
    "    def __str__(self):\n",
    "        return 'filename: {}, len: {}, is spam: {}'.format(self.filename, len(self.text), self.is_spam)\n",
    "    \n",
    "    \n",
    "    def _repr_html_(self):\n",
    "        return \"<code>\" + str(self) + \"</code>\"\n",
    "    \n",
    "    \n",
    "    def n_grammate(self, n):\n",
    "        return set(tuple(self.text[i:i+n]) for i in range(len(self.text) - n + 1))\n",
    "        "
   ]
  },
  {
   "cell_type": "code",
   "execution_count": 4,
   "metadata": {},
   "outputs": [],
   "source": [
    "def parse_message_file(filepath):\n",
    "    lines = None\n",
    "    with open(filepath, 'r') as f:\n",
    "        lines = f.read().split('\\n')\n",
    "    return Message(lines, filepath)"
   ]
  },
  {
   "cell_type": "code",
   "execution_count": 5,
   "metadata": {},
   "outputs": [],
   "source": [
    "def read_actual_ds():\n",
    "    ds = []\n",
    "    for num in range(1, 11):\n",
    "        part = []\n",
    "        prefix = 'messages/part{}'.format(num)\n",
    "        for filename in os.listdir(prefix):\n",
    "            filepath = os.path.join(prefix, filename)\n",
    "            part.append(parse_message_file(filepath))\n",
    "        ds.append(part)\n",
    "    return ds"
   ]
  },
  {
   "cell_type": "markdown",
   "metadata": {},
   "source": [
    "# Classificator"
   ]
  },
  {
   "cell_type": "code",
   "execution_count": 164,
   "metadata": {},
   "outputs": [],
   "source": [
    "class SpamClassificator:\n",
    "    Q_POWER = 2.0\n",
    "    \n",
    "    def __init__(self, train, lambdas, n, alpha):\n",
    "        self.lambdas = lambdas\n",
    "        self.n = n\n",
    "        self.alpha = alpha\n",
    "        \n",
    "        self.class_count = {False: 0, True: 0}\n",
    "        self.ngram_count = {False: {}, True: {}}\n",
    "        self.all_ngrams = set()\n",
    "        \n",
    "        self.memoize = {}\n",
    "        sum_ = 0\n",
    "        \n",
    "        for cluster in train:\n",
    "            for message in cluster:\n",
    "                self.class_count[message.is_spam] += 1\n",
    "                \n",
    "                n_grammated = message.n_grammate(n)\n",
    "                sum_ += len(n_grammated)\n",
    "                \n",
    "                for ngram in n_grammated:\n",
    "                    if ngram in self.ngram_count[message.is_spam]:\n",
    "                        self.ngram_count[message.is_spam][ngram] += 1\n",
    "                    else:\n",
    "                        self.ngram_count[message.is_spam][ngram] = 1\n",
    "                    self.all_ngrams.add(ngram)\n",
    "        # print(\"Length summary of n_grams: \", sum_)\n",
    "        \n",
    "        self.initial = {\n",
    "            is_spam: self.class_count[is_spam] / sum(self.class_count.values())\n",
    "            for is_spam in [True, False]\n",
    "        }\n",
    "        \n",
    "                        \n",
    "                \n",
    "    def get_ngram_probability(self, ngram, is_spam):\n",
    "        if (ngram, is_spam) not in self.memoize:\n",
    "            count = 0\n",
    "            if ngram in self.ngram_count[is_spam]:\n",
    "                count = self.ngram_count[is_spam][ngram]\n",
    "            divisor = self.Q_POWER * self.alpha + self.class_count[is_spam]\n",
    "            self.memoize[(ngram, is_spam)] = (count + self.alpha) / np.longdouble(divisor)\n",
    "    \n",
    "        return self.memoize[(ngram, is_spam)]\n",
    "    \n",
    "    \n",
    "    def draw_table(self):\n",
    "        print('Probability table ======')\n",
    "        for is_spam in [True, False]:\n",
    "            print('Spam  ' if is_spam else 'Legit ', end=':: ')\n",
    "            for ngram in self.all_ngrams:\n",
    "                print(\"{} : {}\".format(ngram, self.get_ngram_probability(ngram, is_spam)), end=', ')\n",
    "            print('')\n",
    "        print('========================')\n",
    "\n",
    "    \n",
    "    def predict_log(self, test_message):\n",
    "        n_grammated = test_message.n_grammate(self.n)\n",
    "        \n",
    "        score = {}\n",
    "        cnt = 0\n",
    "        for is_spam in [True, False]:\n",
    "            score[is_spam] = np.log(self.initial[is_spam] * self.lambdas[is_spam])\n",
    "                                        \n",
    "            for ngram in n_grammated:\n",
    "                if ngram in self.all_ngrams:\n",
    "                    score[is_spam] += np.log(self.get_ngram_probability(ngram, is_spam))\n",
    "                    cnt += 1\n",
    "            \n",
    "            for ngram in self.all_ngrams:\n",
    "                if ngram not in n_grammated:\n",
    "                    score[is_spam] += np.log(1.0 - self.get_ngram_probability(ngram, is_spam))\n",
    "                    cnt += 1\n",
    "                    \n",
    "        total_log = sum(score.values())\n",
    "        avg = -total_log / cnt\n",
    "        \n",
    "        for is_spam in [True, False]:\n",
    "            score[is_spam] = np.exp(avg + score[is_spam])\n",
    "        total = sum(score.values())\n",
    "        \n",
    "        # print(total)\n",
    "        if total == 0:\n",
    "            return {True: 0.0, False: 1.0}\n",
    "        return {is_spam: s / total for is_spam, s in score.items()}\n",
    "    \n",
    "    def predict_stupid(self, test_message):\n",
    "        n_grammated = test_message.n_grammate(self.n)\n",
    "        \n",
    "        score = {}\n",
    "        cnt = 0\n",
    "        for is_spam in [True, False]:\n",
    "            score[is_spam] = self.initial[is_spam] * self.lambdas[is_spam]\n",
    "                                        \n",
    "            for ngram in n_grammated:\n",
    "                if ngram in self.all_ngrams:\n",
    "                    score[is_spam] *= self.get_ngram_probability(ngram, is_spam)\n",
    "            \n",
    "            for ngram in self.all_ngrams:\n",
    "                if ngram not in n_grammated:\n",
    "                    score[is_spam] *= 1.0 - self.get_ngram_probability(ngram, is_spam)\n",
    "                    \n",
    "        total = sum(score.values())\n",
    "        if total == 0:\n",
    "            return {True: 0.0, False: 1.0}\n",
    "        return {is_spam: s / total for is_spam, s in score.items()}"
   ]
  },
  {
   "cell_type": "markdown",
   "metadata": {},
   "source": [
    "# Some hand-managed testing"
   ]
  },
  {
   "cell_type": "code",
   "execution_count": 63,
   "metadata": {},
   "outputs": [
    {
     "name": "stdout",
     "output_type": "stream",
     "text": [
      "Probability table ======\n",
      "Spam  :: (2,) : 0.6, (5,) : 0.2, (4,) : 0.4, (1,) : 0.8, (3,) : 0.4, \n",
      "Legit :: (2,) : 0.25, (5,) : 0.5, (4,) : 0.75, (1,) : 0.25, (3,) : 0.25, \n",
      "========================\n",
      "{True: 0.94022227748340569904, False: 0.05977772251659430097}\n",
      "{True: 0.24680645938780427301, False: 0.75319354061219572703}\n"
     ]
    }
   ],
   "source": [
    "# tested via cpp code from codeforces just to be sure everything is ok\n",
    "test_ds = []\n",
    "prefix = 'test'\n",
    "for filename in os.listdir(prefix):\n",
    "    filepath = os.path.join(prefix, filename)\n",
    "    test_ds.append(parse_message_file(filepath))\n",
    "test_ds = [test_ds]\n",
    "\n",
    "test_classificator = SpamClassificator(test_ds, {False: 1.0, True: 1.0}, 1, 1.0)\n",
    "test_classificator.draw_table()\n",
    "\n",
    "test_messages = [\n",
    "    Message(['Subject:', '', '1 3 1', ''], 'testing.txt'),\n",
    "    Message(['Subject: 3 4', '', '2 5 6', ''], 'testing2.txt')\n",
    "]\n",
    "\n",
    "for test_message in test_messages:\n",
    "    print(test_classificator.predict_stupid(test_message))"
   ]
  },
  {
   "cell_type": "markdown",
   "metadata": {},
   "source": [
    "# Drawing ROC-curve"
   ]
  },
  {
   "cell_type": "code",
   "execution_count": 214,
   "metadata": {},
   "outputs": [],
   "source": [
    "def draw(predictions):\n",
    "    dots = []\n",
    "    for w in [x[0] for x in sorted(predictions, key=lambda x: x[0])]:\n",
    "        tp = 0\n",
    "        fp = 0\n",
    "        neg = 0\n",
    "        pos = 0\n",
    "        for (pred, expect) in predictions:\n",
    "            if pred > w:\n",
    "                if expect:\n",
    "                    tp += 1\n",
    "                else:\n",
    "                    fp += 1\n",
    "            if not expect:\n",
    "                neg += 1\n",
    "            else:\n",
    "                pos += 1\n",
    "        fpr = fp / neg\n",
    "        tpr = tp / pos\n",
    "        dots.append((fpr, tpr))\n",
    "    dots = sorted(dots)\n",
    "    \n",
    "    plt.figure(figsize=(7, 7))\n",
    "    x, y = ([x for (x, _) in dots], [y for (_, y) in dots])\n",
    "    plt.plot(x, y)\n",
    "    plt.xlabel(\"FPR\")\n",
    "    plt.ylabel(\"TPR\")\n",
    "    plt.show()"
   ]
  },
  {
   "cell_type": "markdown",
   "metadata": {},
   "source": [
    "# Cross-validation k-fold count"
   ]
  },
  {
   "cell_type": "code",
   "execution_count": 33,
   "metadata": {},
   "outputs": [],
   "source": [
    "alphas = {\n",
    "    1: [0.1, 0.01, 0.005, 0.001, 0.0007, 0.0001, 0.00001],\n",
    "    2: [0.1, 0.01, 0.005],\n",
    "    3: [0.1, 0.01]\n",
    "}\n",
    "\n",
    "params = []\n",
    "for n in range(1, 4):\n",
    "    for alpha in alphas[n]:\n",
    "        params.append((n, alpha))\n",
    "ds = read_actual_ds()"
   ]
  },
  {
   "cell_type": "code",
   "execution_count": 34,
   "metadata": {},
   "outputs": [
    {
     "data": {
      "application/vnd.jupyter.widget-view+json": {
       "model_id": "fb7f4bbe3afb4892835995f1276a143d",
       "version_major": 2,
       "version_minor": 0
      },
      "text/plain": [
       "HBox(children=(FloatProgress(value=0.0, max=12.0), HTML(value='')))"
      ]
     },
     "metadata": {},
     "output_type": "display_data"
    },
    {
     "name": "stdout",
     "output_type": "stream",
     "text": [
      "1 0.1 0.9532110091743119\n",
      "1 0.01 0.9587155963302753\n",
      "1 0.005 0.9577981651376147\n",
      "1 0.001 0.9605504587155963\n",
      "1 0.0007 0.963302752293578\n",
      "1 0.0001 0.9660550458715597\n",
      "1 1e-05 0.9678899082568807\n",
      "2 0.1 0.8990825688073395\n",
      "2 0.01 0.9311926605504587\n",
      "2 0.005 0.936697247706422\n",
      "3 0.1 0.8412844036697248\n",
      "3 0.01 0.8825688073394495\n",
      "\n"
     ]
    }
   ],
   "source": [
    "total = sum([len(x) for x in ds])\n",
    "for (n, alpha) in log_progress(params):\n",
    "    if (n, alpha) in results:\n",
    "        print(n, alpha, results[(n, alpha)])\n",
    "        continue\n",
    "    true = 0\n",
    "    for num in range(10):\n",
    "        train = copy.deepcopy(ds)\n",
    "        test = train.pop(num)\n",
    "        \n",
    "        classificator = SpamClassificator(train, {False: 1e100, True: 1e100}, n, alpha)\n",
    "        \n",
    "        for test_message in test:\n",
    "            prediction = classificator.predict_stupid(test_message)\n",
    "            \n",
    "            result = max(prediction, key=prediction.get)\n",
    "            target = test_message.is_spam\n",
    "            if result == target:\n",
    "                true += 1\n",
    "                \n",
    "    accuracy = true / total\n",
    "    results[(n, alpha)] = accuracy\n",
    "    print(n, alpha, accuracy)"
   ]
  },
  {
   "cell_type": "markdown",
   "metadata": {},
   "source": [
    "# First let's try some \"bad\" case"
   ]
  },
  {
   "cell_type": "code",
   "execution_count": 161,
   "metadata": {},
   "outputs": [],
   "source": [
    "def predict_n_draw(n, alpha, lambdas):\n",
    "    predictions = []\n",
    "    for num in log_progress(list(range(10))):\n",
    "        train = copy.deepcopy(ds)\n",
    "        test = train.pop(num)\n",
    "\n",
    "        classificator = SpamClassificator(train, lambdas, n, alpha)\n",
    "\n",
    "        for test_message in test:\n",
    "            prediction = classificator.predict_stupid(test_message)\n",
    "\n",
    "            predictions.append((prediction[True], test_message.is_spam))\n",
    "    draw(predictions)"
   ]
  },
  {
   "cell_type": "code",
   "execution_count": 215,
   "metadata": {},
   "outputs": [
    {
     "data": {
      "application/vnd.jupyter.widget-view+json": {
       "model_id": "54c81f92a2eb4267a26665b0bd06fb62",
       "version_major": 2,
       "version_minor": 0
      },
      "text/plain": [
       "HBox(children=(FloatProgress(value=0.0, max=10.0), HTML(value='')))"
      ]
     },
     "metadata": {},
     "output_type": "display_data"
    },
    {
     "name": "stdout",
     "output_type": "stream",
     "text": [
      "\n"
     ]
    },
    {
     "data": {
      "image/png": "[encoded data removed]",
      "text/plain": [
       "<Figure size 504x504 with 1 Axes>"
      ]
     },
     "metadata": {
      "needs_background": "light"
     },
     "output_type": "display_data"
    }
   ],
   "source": [
    "predict_n_draw(1, 100, {False: 1e-100, True: 1e-100})"
   ]
  },
  {
   "cell_type": "code",
   "execution_count": 216,
   "metadata": {},
   "outputs": [
    {
     "data": {
      "application/vnd.jupyter.widget-view+json": {
       "model_id": "7a35a766c9494e8cae2854a982e13213",
       "version_major": 2,
       "version_minor": 0
      },
      "text/plain": [
       "HBox(children=(FloatProgress(value=0.0, max=10.0), HTML(value='')))"
      ]
     },
     "metadata": {},
     "output_type": "display_data"
    },
    {
     "name": "stdout",
     "output_type": "stream",
     "text": [
      "\n"
     ]
    },
    {
     "data": {
      "image/png": "[encoded data removed]",
      "text/plain": [
       "<Figure size 504x504 with 1 Axes>"
      ]
     },
     "metadata": {
      "needs_background": "light"
     },
     "output_type": "display_data"
    }
   ],
   "source": [
    "predict_n_draw(1, 1e-5, {False: 1e100, True: 1e100})"
   ]
  },
  {
   "cell_type": "code",
   "execution_count": 217,
   "metadata": {},
   "outputs": [
    {
     "data": {
      "application/vnd.jupyter.widget-view+json": {
       "model_id": "c31b024865184df4a07ab040a7ed87f9",
       "version_major": 2,
       "version_minor": 0
      },
      "text/plain": [
       "HBox(children=(FloatProgress(value=0.0, max=10.0), HTML(value='')))"
      ]
     },
     "metadata": {},
     "output_type": "display_data"
    },
    {
     "name": "stdout",
     "output_type": "stream",
     "text": [
      "\n"
     ]
    },
    {
     "data": {
      "image/png": "[encoded data removed]",
      "text/plain": [
       "<Figure size 504x504 with 1 Axes>"
      ]
     },
     "metadata": {
      "needs_background": "light"
     },
     "output_type": "display_data"
    }
   ],
   "source": [
    "predict_n_draw(2, 1e-5, {False: 1e100, True: 1e100})"
   ]
  },
  {
   "cell_type": "markdown",
   "metadata": {},
   "source": [
    "# Ok, let's find appropriate lambda"
   ]
  },
  {
   "cell_type": "code",
   "execution_count": 191,
   "metadata": {},
   "outputs": [],
   "source": [
    "class LambdaIncreaseException(Exception):\n",
    "    pass\n",
    "\n",
    "\n",
    "def count_true(n, alpha, lambdas, raising):\n",
    "    true = 0\n",
    "    erroring = False\n",
    "    for num in log_progress(list(range(10))):\n",
    "        train = copy.deepcopy(ds)\n",
    "        test = train.pop(num)\n",
    "        \n",
    "        classificator = SpamClassificator(train, lambdas, n, alpha)\n",
    "        \n",
    "        for test_message in test:\n",
    "            prediction = classificator.predict_stupid(test_message)\n",
    "            \n",
    "            result = max(prediction, key=prediction.get)\n",
    "            target = test_message.is_spam\n",
    "            \n",
    "            if result == target:\n",
    "                true += 1\n",
    "            if not target and result:\n",
    "                if raising:\n",
    "                    raise LambdaIncreaseException\n",
    "                else:\n",
    "                    erroring = True\n",
    "    return true, erroring\n",
    "\n",
    "    \n",
    "\n",
    "def find_lambda_range(n, alpha, lambdas):\n",
    "    true = 0\n",
    "    prev_lambdas = lambdas\n",
    "    while True:\n",
    "        try:\n",
    "            count_true(n, alpha, lambdas, True)\n",
    "            break\n",
    "        except LambdaIncreaseException:\n",
    "            prev_lambdas = copy.copy(lambdas)\n",
    "            lambdas[False] *= 1e10\n",
    "            continue\n",
    "\n",
    "    return (prev_lambdas[0], lambdas[0])"
   ]
  },
  {
   "cell_type": "code",
   "execution_count": 202,
   "metadata": {},
   "outputs": [
    {
     "data": {
      "application/vnd.jupyter.widget-view+json": {
       "model_id": "1abe9cd7ade343b197516016f8a2440f",
       "version_major": 2,
       "version_minor": 0
      },
      "text/plain": [
       "HBox(children=(FloatProgress(value=0.0, max=10.0), HTML(value='')))"
      ]
     },
     "metadata": {},
     "output_type": "display_data"
    },
    {
     "name": "stdout",
     "output_type": "stream",
     "text": [
      "\n"
     ]
    },
    {
     "data": {
      "application/vnd.jupyter.widget-view+json": {
       "model_id": "d3ec8b734be5458d878c7739434bca50",
       "version_major": 2,
       "version_minor": 0
      },
      "text/plain": [
       "HBox(children=(FloatProgress(value=0.0, max=10.0), HTML(value='')))"
      ]
     },
     "metadata": {},
     "output_type": "display_data"
    },
    {
     "name": "stdout",
     "output_type": "stream",
     "text": [
      "\n"
     ]
    },
    {
     "data": {
      "application/vnd.jupyter.widget-view+json": {
       "model_id": "490895ba63224026b813c36c2face7d1",
       "version_major": 2,
       "version_minor": 0
      },
      "text/plain": [
       "HBox(children=(FloatProgress(value=0.0, max=10.0), HTML(value='')))"
      ]
     },
     "metadata": {},
     "output_type": "display_data"
    },
    {
     "name": "stdout",
     "output_type": "stream",
     "text": [
      "\n"
     ]
    },
    {
     "data": {
      "application/vnd.jupyter.widget-view+json": {
       "model_id": "85f48b2678a94b0e8404225ac2e794a7",
       "version_major": 2,
       "version_minor": 0
      },
      "text/plain": [
       "HBox(children=(FloatProgress(value=0.0, max=10.0), HTML(value='')))"
      ]
     },
     "metadata": {},
     "output_type": "display_data"
    },
    {
     "name": "stdout",
     "output_type": "stream",
     "text": [
      "\n"
     ]
    },
    {
     "data": {
      "application/vnd.jupyter.widget-view+json": {
       "model_id": "a9e1bec98ffe4bcf993799a600794d44",
       "version_major": 2,
       "version_minor": 0
      },
      "text/plain": [
       "HBox(children=(FloatProgress(value=0.0, max=10.0), HTML(value='')))"
      ]
     },
     "metadata": {},
     "output_type": "display_data"
    },
    {
     "name": "stdout",
     "output_type": "stream",
     "text": [
      "\n"
     ]
    }
   ],
   "source": [
    "start_lambda, end_lambda = find_lambda_range(1, 1e-5, {False: 1e100, True: 1e100})"
   ]
  },
  {
   "cell_type": "code",
   "execution_count": 204,
   "metadata": {},
   "outputs": [
    {
     "name": "stdout",
     "output_type": "stream",
     "text": [
      "9.999999999999999e+129 9.999999999999998e+139\n"
     ]
    },
    {
     "data": {
      "application/vnd.jupyter.widget-view+json": {
       "model_id": "84c0b6db554c4cc8b49e231fed4e7670",
       "version_major": 2,
       "version_minor": 0
      },
      "text/plain": [
       "HBox(children=(FloatProgress(value=0.0, max=10.0), HTML(value='')))"
      ]
     },
     "metadata": {},
     "output_type": "display_data"
    },
    {
     "name": "stdout",
     "output_type": "stream",
     "text": [
      "\n",
      "9.999999999999999e+129 5.0000000005e+139\n"
     ]
    },
    {
     "data": {
      "application/vnd.jupyter.widget-view+json": {
       "model_id": "1fc3a163b612448fbf79a09428920f6e",
       "version_major": 2,
       "version_minor": 0
      },
      "text/plain": [
       "HBox(children=(FloatProgress(value=0.0, max=10.0), HTML(value='')))"
      ]
     },
     "metadata": {},
     "output_type": "display_data"
    },
    {
     "name": "stdout",
     "output_type": "stream",
     "text": [
      "\n",
      "9.999999999999999e+129 2.50000000075e+139\n"
     ]
    },
    {
     "data": {
      "application/vnd.jupyter.widget-view+json": {
       "model_id": "e96271847e454a70aed5806e6ba70598",
       "version_major": 2,
       "version_minor": 0
      },
      "text/plain": [
       "HBox(children=(FloatProgress(value=0.0, max=10.0), HTML(value='')))"
      ]
     },
     "metadata": {},
     "output_type": "display_data"
    },
    {
     "name": "stdout",
     "output_type": "stream",
     "text": [
      "\n",
      "1.250000000875e+139 2.50000000075e+139\n"
     ]
    },
    {
     "data": {
      "application/vnd.jupyter.widget-view+json": {
       "model_id": "4547fbdc8e80473a8151257ae5e72550",
       "version_major": 2,
       "version_minor": 0
      },
      "text/plain": [
       "HBox(children=(FloatProgress(value=0.0, max=10.0), HTML(value='')))"
      ]
     },
     "metadata": {},
     "output_type": "display_data"
    },
    {
     "name": "stdout",
     "output_type": "stream",
     "text": [
      "\n",
      "1.8750000008125e+139 2.50000000075e+139\n"
     ]
    },
    {
     "data": {
      "application/vnd.jupyter.widget-view+json": {
       "model_id": "e06224e87b2e494996df6d7e8fc241cb",
       "version_major": 2,
       "version_minor": 0
      },
      "text/plain": [
       "HBox(children=(FloatProgress(value=0.0, max=10.0), HTML(value='')))"
      ]
     },
     "metadata": {},
     "output_type": "display_data"
    },
    {
     "name": "stdout",
     "output_type": "stream",
     "text": [
      "\n",
      "1.8750000008125e+139 2.18750000078125e+139\n"
     ]
    },
    {
     "data": {
      "application/vnd.jupyter.widget-view+json": {
       "model_id": "ccd5578c62444ef9a41446dfa5d9e085",
       "version_major": 2,
       "version_minor": 0
      },
      "text/plain": [
       "HBox(children=(FloatProgress(value=0.0, max=10.0), HTML(value='')))"
      ]
     },
     "metadata": {},
     "output_type": "display_data"
    },
    {
     "name": "stdout",
     "output_type": "stream",
     "text": [
      "\n",
      "1.8750000008125e+139 2.031250000796875e+139\n"
     ]
    },
    {
     "data": {
      "application/vnd.jupyter.widget-view+json": {
       "model_id": "34b91fc81dd444d0892232ece717b76c",
       "version_major": 2,
       "version_minor": 0
      },
      "text/plain": [
       "HBox(children=(FloatProgress(value=0.0, max=10.0), HTML(value='')))"
      ]
     },
     "metadata": {},
     "output_type": "display_data"
    },
    {
     "name": "stdout",
     "output_type": "stream",
     "text": [
      "\n",
      "1.8750000008125e+139 1.9531250008046874e+139\n"
     ]
    },
    {
     "data": {
      "application/vnd.jupyter.widget-view+json": {
       "model_id": "53b54a40d6fd4eea855abf99e3435205",
       "version_major": 2,
       "version_minor": 0
      },
      "text/plain": [
       "HBox(children=(FloatProgress(value=0.0, max=10.0), HTML(value='')))"
      ]
     },
     "metadata": {},
     "output_type": "display_data"
    },
    {
     "name": "stdout",
     "output_type": "stream",
     "text": [
      "\n",
      "1.8750000008125e+139 1.9140625008085937e+139\n"
     ]
    },
    {
     "data": {
      "application/vnd.jupyter.widget-view+json": {
       "model_id": "043f3d25b01e4d09b5012fa1b66e505f",
       "version_major": 2,
       "version_minor": 0
      },
      "text/plain": [
       "HBox(children=(FloatProgress(value=0.0, max=10.0), HTML(value='')))"
      ]
     },
     "metadata": {},
     "output_type": "display_data"
    },
    {
     "name": "stdout",
     "output_type": "stream",
     "text": [
      "\n",
      "1.8750000008125e+139 1.894531250810547e+139\n"
     ]
    },
    {
     "data": {
      "application/vnd.jupyter.widget-view+json": {
       "model_id": "ca5daabc4c014a7d9d2c62ffccba05fd",
       "version_major": 2,
       "version_minor": 0
      },
      "text/plain": [
       "HBox(children=(FloatProgress(value=0.0, max=10.0), HTML(value='')))"
      ]
     },
     "metadata": {},
     "output_type": "display_data"
    },
    {
     "name": "stdout",
     "output_type": "stream",
     "text": [
      "\n"
     ]
    },
    {
     "data": {
      "text/plain": [
       "1.8847656258115234e+139"
      ]
     },
     "execution_count": 204,
     "metadata": {},
     "output_type": "execute_result"
    }
   ],
   "source": [
    "dots = []\n",
    "for i in range(10): # i think it's enough\n",
    "    print(start_lambda, end_lambda)\n",
    "    middle_lambda = (start_lambda + end_lambda) / 2\n",
    "    \n",
    "    true, erroring = count_true(1, 1e-5, {False: middle_lambda, True: 1e100}, False)\n",
    "    if not erroring:\n",
    "        end_lambda = middle_lambda\n",
    "    else:\n",
    "        dots.append((middle_lambda, true / total))\n",
    "        start_lambda = middle_lambda\n",
    "end_lambda"
   ]
  },
  {
   "cell_type": "code",
   "execution_count": 210,
   "metadata": {},
   "outputs": [
    {
     "data": {
      "application/vnd.jupyter.widget-view+json": {
       "model_id": "9fbc1d99b7ed435b84ed72facf1c9b96",
       "version_major": 2,
       "version_minor": 0
      },
      "text/plain": [
       "HBox(children=(FloatProgress(value=0.0, max=10.0), HTML(value='')))"
      ]
     },
     "metadata": {},
     "output_type": "display_data"
    },
    {
     "name": "stdout",
     "output_type": "stream",
     "text": [
      "\n"
     ]
    },
    {
     "data": {
      "application/vnd.jupyter.widget-view+json": {
       "model_id": "b1e56e054acc414786f85d9dab8f7572",
       "version_major": 2,
       "version_minor": 0
      },
      "text/plain": [
       "HBox(children=(FloatProgress(value=0.0, max=10.0), HTML(value='')))"
      ]
     },
     "metadata": {},
     "output_type": "display_data"
    },
    {
     "name": "stdout",
     "output_type": "stream",
     "text": [
      "\n"
     ]
    },
    {
     "data": {
      "application/vnd.jupyter.widget-view+json": {
       "model_id": "b21c2558c5434f149ac0825f3cfaa8ff",
       "version_major": 2,
       "version_minor": 0
      },
      "text/plain": [
       "HBox(children=(FloatProgress(value=0.0, max=10.0), HTML(value='')))"
      ]
     },
     "metadata": {},
     "output_type": "display_data"
    },
    {
     "name": "stdout",
     "output_type": "stream",
     "text": [
      "\n"
     ]
    },
    {
     "data": {
      "application/vnd.jupyter.widget-view+json": {
       "model_id": "1e6ecbdd19ab47f98c6c6caab91de696",
       "version_major": 2,
       "version_minor": 0
      },
      "text/plain": [
       "HBox(children=(FloatProgress(value=0.0, max=10.0), HTML(value='')))"
      ]
     },
     "metadata": {},
     "output_type": "display_data"
    },
    {
     "name": "stdout",
     "output_type": "stream",
     "text": [
      "\n"
     ]
    },
    {
     "data": {
      "application/vnd.jupyter.widget-view+json": {
       "model_id": "1d470929aba943d6bdd773eaf1b6e600",
       "version_major": 2,
       "version_minor": 0
      },
      "text/plain": [
       "HBox(children=(FloatProgress(value=0.0, max=10.0), HTML(value='')))"
      ]
     },
     "metadata": {},
     "output_type": "display_data"
    },
    {
     "name": "stdout",
     "output_type": "stream",
     "text": [
      "\n"
     ]
    },
    {
     "data": {
      "application/vnd.jupyter.widget-view+json": {
       "model_id": "d3f817d6c0054bb493edab336d8e7231",
       "version_major": 2,
       "version_minor": 0
      },
      "text/plain": [
       "HBox(children=(FloatProgress(value=0.0, max=10.0), HTML(value='')))"
      ]
     },
     "metadata": {},
     "output_type": "display_data"
    },
    {
     "name": "stdout",
     "output_type": "stream",
     "text": [
      "\n"
     ]
    },
    {
     "data": {
      "application/vnd.jupyter.widget-view+json": {
       "model_id": "dce4ac6fcc2c4ec391b56d40d09e8ed9",
       "version_major": 2,
       "version_minor": 0
      },
      "text/plain": [
       "HBox(children=(FloatProgress(value=0.0, max=10.0), HTML(value='')))"
      ]
     },
     "metadata": {},
     "output_type": "display_data"
    },
    {
     "name": "stdout",
     "output_type": "stream",
     "text": [
      "\n"
     ]
    },
    {
     "data": {
      "application/vnd.jupyter.widget-view+json": {
       "model_id": "57f8cab9c2f34ac786f67697e1925366",
       "version_major": 2,
       "version_minor": 0
      },
      "text/plain": [
       "HBox(children=(FloatProgress(value=0.0, max=10.0), HTML(value='')))"
      ]
     },
     "metadata": {},
     "output_type": "display_data"
    },
    {
     "name": "stdout",
     "output_type": "stream",
     "text": [
      "\n"
     ]
    },
    {
     "data": {
      "application/vnd.jupyter.widget-view+json": {
       "model_id": "d58275b8b6b242e3a164aa90aeb5fc98",
       "version_major": 2,
       "version_minor": 0
      },
      "text/plain": [
       "HBox(children=(FloatProgress(value=0.0, max=10.0), HTML(value='')))"
      ]
     },
     "metadata": {},
     "output_type": "display_data"
    },
    {
     "name": "stdout",
     "output_type": "stream",
     "text": [
      "\n"
     ]
    },
    {
     "data": {
      "application/vnd.jupyter.widget-view+json": {
       "model_id": "50056512a9224ac3ad00a888ba30bc64",
       "version_major": 2,
       "version_minor": 0
      },
      "text/plain": [
       "HBox(children=(FloatProgress(value=0.0, max=10.0), HTML(value='')))"
      ]
     },
     "metadata": {},
     "output_type": "display_data"
    },
    {
     "name": "stdout",
     "output_type": "stream",
     "text": [
      "\n"
     ]
    },
    {
     "data": {
      "application/vnd.jupyter.widget-view+json": {
       "model_id": "31e14d442da24ee9b8623b6009593d81",
       "version_major": 2,
       "version_minor": 0
      },
      "text/plain": [
       "HBox(children=(FloatProgress(value=0.0, max=10.0), HTML(value='')))"
      ]
     },
     "metadata": {},
     "output_type": "display_data"
    },
    {
     "name": "stdout",
     "output_type": "stream",
     "text": [
      "\n"
     ]
    },
    {
     "data": {
      "application/vnd.jupyter.widget-view+json": {
       "model_id": "07123b987674491fb28d803309967d17",
       "version_major": 2,
       "version_minor": 0
      },
      "text/plain": [
       "HBox(children=(FloatProgress(value=0.0, max=10.0), HTML(value='')))"
      ]
     },
     "metadata": {},
     "output_type": "display_data"
    },
    {
     "name": "stdout",
     "output_type": "stream",
     "text": [
      "\n"
     ]
    },
    {
     "data": {
      "application/vnd.jupyter.widget-view+json": {
       "model_id": "7bc5d7643d734f4ca7727cdfe3ede68a",
       "version_major": 2,
       "version_minor": 0
      },
      "text/plain": [
       "HBox(children=(FloatProgress(value=0.0, max=10.0), HTML(value='')))"
      ]
     },
     "metadata": {},
     "output_type": "display_data"
    },
    {
     "name": "stdout",
     "output_type": "stream",
     "text": [
      "\n"
     ]
    },
    {
     "data": {
      "application/vnd.jupyter.widget-view+json": {
       "model_id": "09304655d41341089b8b5f0f6e7596fd",
       "version_major": 2,
       "version_minor": 0
      },
      "text/plain": [
       "HBox(children=(FloatProgress(value=0.0, max=10.0), HTML(value='')))"
      ]
     },
     "metadata": {},
     "output_type": "display_data"
    },
    {
     "name": "stdout",
     "output_type": "stream",
     "text": [
      "\n"
     ]
    },
    {
     "data": {
      "application/vnd.jupyter.widget-view+json": {
       "model_id": "8797430b134a411aa5d08cd304945134",
       "version_major": 2,
       "version_minor": 0
      },
      "text/plain": [
       "HBox(children=(FloatProgress(value=0.0, max=10.0), HTML(value='')))"
      ]
     },
     "metadata": {},
     "output_type": "display_data"
    },
    {
     "name": "stdout",
     "output_type": "stream",
     "text": [
      "\n"
     ]
    },
    {
     "data": {
      "application/vnd.jupyter.widget-view+json": {
       "model_id": "671b716c375b4861bab7bdc278610bb5",
       "version_major": 2,
       "version_minor": 0
      },
      "text/plain": [
       "HBox(children=(FloatProgress(value=0.0, max=10.0), HTML(value='')))"
      ]
     },
     "metadata": {},
     "output_type": "display_data"
    },
    {
     "name": "stdout",
     "output_type": "stream",
     "text": [
      "\n"
     ]
    },
    {
     "data": {
      "application/vnd.jupyter.widget-view+json": {
       "model_id": "4277294c87b1454497fb9066d6807904",
       "version_major": 2,
       "version_minor": 0
      },
      "text/plain": [
       "HBox(children=(FloatProgress(value=0.0, max=10.0), HTML(value='')))"
      ]
     },
     "metadata": {},
     "output_type": "display_data"
    },
    {
     "name": "stdout",
     "output_type": "stream",
     "text": [
      "\n"
     ]
    },
    {
     "data": {
      "application/vnd.jupyter.widget-view+json": {
       "model_id": "9aca5d1f55f040a3974505c41665a2e8",
       "version_major": 2,
       "version_minor": 0
      },
      "text/plain": [
       "HBox(children=(FloatProgress(value=0.0, max=10.0), HTML(value='')))"
      ]
     },
     "metadata": {},
     "output_type": "display_data"
    },
    {
     "name": "stdout",
     "output_type": "stream",
     "text": [
      "\n"
     ]
    },
    {
     "data": {
      "application/vnd.jupyter.widget-view+json": {
       "model_id": "573ed69c3e0c44c48367683c01f7386b",
       "version_major": 2,
       "version_minor": 0
      },
      "text/plain": [
       "HBox(children=(FloatProgress(value=0.0, max=10.0), HTML(value='')))"
      ]
     },
     "metadata": {},
     "output_type": "display_data"
    },
    {
     "name": "stdout",
     "output_type": "stream",
     "text": [
      "\n"
     ]
    },
    {
     "data": {
      "application/vnd.jupyter.widget-view+json": {
       "model_id": "b44149dc7c774f40bb01d07a2c2fd429",
       "version_major": 2,
       "version_minor": 0
      },
      "text/plain": [
       "HBox(children=(FloatProgress(value=0.0, max=10.0), HTML(value='')))"
      ]
     },
     "metadata": {},
     "output_type": "display_data"
    },
    {
     "name": "stdout",
     "output_type": "stream",
     "text": [
      "\n"
     ]
    },
    {
     "data": {
      "application/vnd.jupyter.widget-view+json": {
       "model_id": "341df221c5c44564ba6c50d8a9033a7e",
       "version_major": 2,
       "version_minor": 0
      },
      "text/plain": [
       "HBox(children=(FloatProgress(value=0.0, max=10.0), HTML(value='')))"
      ]
     },
     "metadata": {},
     "output_type": "display_data"
    },
    {
     "name": "stdout",
     "output_type": "stream",
     "text": [
      "\n"
     ]
    },
    {
     "data": {
      "application/vnd.jupyter.widget-view+json": {
       "model_id": "8e993de16b734a9cb4937d8b11d4487f",
       "version_major": 2,
       "version_minor": 0
      },
      "text/plain": [
       "HBox(children=(FloatProgress(value=0.0, max=10.0), HTML(value='')))"
      ]
     },
     "metadata": {},
     "output_type": "display_data"
    },
    {
     "name": "stdout",
     "output_type": "stream",
     "text": [
      "\n"
     ]
    },
    {
     "data": {
      "application/vnd.jupyter.widget-view+json": {
       "model_id": "2553c97f09e548e180a3040fe7a1ec32",
       "version_major": 2,
       "version_minor": 0
      },
      "text/plain": [
       "HBox(children=(FloatProgress(value=0.0, max=10.0), HTML(value='')))"
      ]
     },
     "metadata": {},
     "output_type": "display_data"
    },
    {
     "name": "stdout",
     "output_type": "stream",
     "text": [
      "\n"
     ]
    },
    {
     "data": {
      "application/vnd.jupyter.widget-view+json": {
       "model_id": "9aca2e9d1b3a4bda8e88ab8cf4796e12",
       "version_major": 2,
       "version_minor": 0
      },
      "text/plain": [
       "HBox(children=(FloatProgress(value=0.0, max=10.0), HTML(value='')))"
      ]
     },
     "metadata": {},
     "output_type": "display_data"
    },
    {
     "name": "stdout",
     "output_type": "stream",
     "text": [
      "\n"
     ]
    },
    {
     "data": {
      "application/vnd.jupyter.widget-view+json": {
       "model_id": "8c837007b942493e90ee59cceb45d326",
       "version_major": 2,
       "version_minor": 0
      },
      "text/plain": [
       "HBox(children=(FloatProgress(value=0.0, max=10.0), HTML(value='')))"
      ]
     },
     "metadata": {},
     "output_type": "display_data"
    },
    {
     "name": "stdout",
     "output_type": "stream",
     "text": [
      "\n"
     ]
    },
    {
     "data": {
      "application/vnd.jupyter.widget-view+json": {
       "model_id": "15164ab0c73a4816bb9f095b317b434e",
       "version_major": 2,
       "version_minor": 0
      },
      "text/plain": [
       "HBox(children=(FloatProgress(value=0.0, max=10.0), HTML(value='')))"
      ]
     },
     "metadata": {},
     "output_type": "display_data"
    },
    {
     "name": "stdout",
     "output_type": "stream",
     "text": [
      "\n"
     ]
    },
    {
     "data": {
      "application/vnd.jupyter.widget-view+json": {
       "model_id": "1f8c3e25ab6a42acbf42434ddcf51b8e",
       "version_major": 2,
       "version_minor": 0
      },
      "text/plain": [
       "HBox(children=(FloatProgress(value=0.0, max=10.0), HTML(value='')))"
      ]
     },
     "metadata": {},
     "output_type": "display_data"
    },
    {
     "name": "stdout",
     "output_type": "stream",
     "text": [
      "\n"
     ]
    },
    {
     "data": {
      "application/vnd.jupyter.widget-view+json": {
       "model_id": "a7a2943e60c240b0977b9741d2b880ce",
       "version_major": 2,
       "version_minor": 0
      },
      "text/plain": [
       "HBox(children=(FloatProgress(value=0.0, max=10.0), HTML(value='')))"
      ]
     },
     "metadata": {},
     "output_type": "display_data"
    },
    {
     "name": "stdout",
     "output_type": "stream",
     "text": [
      "\n"
     ]
    },
    {
     "data": {
      "application/vnd.jupyter.widget-view+json": {
       "model_id": "0bb073846f114da185622b054ebd7b06",
       "version_major": 2,
       "version_minor": 0
      },
      "text/plain": [
       "HBox(children=(FloatProgress(value=0.0, max=10.0), HTML(value='')))"
      ]
     },
     "metadata": {},
     "output_type": "display_data"
    },
    {
     "name": "stdout",
     "output_type": "stream",
     "text": [
      "\n"
     ]
    },
    {
     "data": {
      "application/vnd.jupyter.widget-view+json": {
       "model_id": "8485a5530a7e47e89cd92b89448c1430",
       "version_major": 2,
       "version_minor": 0
      },
      "text/plain": [
       "HBox(children=(FloatProgress(value=0.0, max=10.0), HTML(value='')))"
      ]
     },
     "metadata": {},
     "output_type": "display_data"
    },
    {
     "name": "stdout",
     "output_type": "stream",
     "text": [
      "\n",
      "[(1.250000000875e+139, 0.8605504587155963), (1.8750000008125e+139, 0.8605504587155963), (1e+100, 0.9678899082568807), (6.4991918131431845e+137, 0.8688073394495412), (1.2998383626286369e+138, 0.8669724770642202), (1.9497575439429554e+138, 0.8660550458715597), (2.5996767252572738e+138, 0.8660550458715597), (3.2495959065715926e+138, 0.8660550458715597), (3.899515087885911e+138, 0.865137614678899), (4.549434269200229e+138, 0.8642201834862385), (5.1993534505145476e+138, 0.8642201834862385), (5.8492726318288664e+138, 0.8642201834862385), (6.499191813143185e+138, 0.863302752293578), (7.149110994457503e+138, 0.863302752293578), (7.799030175771821e+138, 0.863302752293578), (8.44894935708614e+138, 0.8623853211009175), (9.098868538400458e+138, 0.8614678899082568), (9.748787719714776e+138, 0.8614678899082568), (1.0398706901029095e+139, 0.8614678899082568), (1.1048626082343414e+139, 0.8614678899082568), (1.1698545263657733e+139, 0.8605504587155963), (1.2348464444972052e+139, 0.8605504587155963), (1.299838362628637e+139, 0.8605504587155963), (1.3648302807600686e+139, 0.8605504587155963), (1.4298221988915005e+139, 0.8605504587155963), (1.4948141170229324e+139, 0.8605504587155963), (1.5598060351543643e+139, 0.8605504587155963), (1.6247979532857962e+139, 0.8605504587155963), (1.689789871417228e+139, 0.8605504587155963), (1.75478178954866e+139, 0.8605504587155963), (1.8197737076800915e+139, 0.8605504587155963), (1.8847656258115234e+139, 0.8614678899082568)]\n"
     ]
    }
   ],
   "source": [
    "for lambda_ in np.linspace(1e100, end_lambda, 30):\n",
    "    true = 0\n",
    "    stop = False\n",
    "    \n",
    "    true, erroring = count_true(1, 1e-5, {False: lambda_, True: 1e100}, False)\n",
    "    \n",
    "    accuracy = true / total\n",
    "    dots.append((lambda_, accuracy))\n",
    "    \n",
    "    if not erroring:\n",
    "        break\n",
    "print(dots)"
   ]
  },
  {
   "cell_type": "code",
   "execution_count": 230,
   "metadata": {},
   "outputs": [
    {
     "data": {
      "image/png": "[encoded data removed]",
      "text/plain": [
       "<Figure size 1080x504 with 1 Axes>"
      ]
     },
     "metadata": {
      "needs_background": "light"
     },
     "output_type": "display_data"
    }
   ],
   "source": [
    "dots = sorted(dots)\n",
    "plt.figure(figsize=(15,7))\n",
    "x, y = ([x / 1e100 for (x, _) in dots], [y for (_, y) in dots])\n",
    "plt.plot(x, y)\n",
    "plt.xlabel(\"lambda_legit / lambda_spam\")\n",
    "plt.ylabel(\"Accuracy\")\n",
    "plt.show()"
   ]
  },
  {
   "cell_type": "code",
   "execution_count": 218,
   "metadata": {},
   "outputs": [
    {
     "data": {
      "application/vnd.jupyter.widget-view+json": {
       "model_id": "b4f23f83e38a4735bb064fa2e7cdce6a",
       "version_major": 2,
       "version_minor": 0
      },
      "text/plain": [
       "HBox(children=(FloatProgress(value=0.0, max=10.0), HTML(value='')))"
      ]
     },
     "metadata": {},
     "output_type": "display_data"
    },
    {
     "name": "stdout",
     "output_type": "stream",
     "text": [
      "\n"
     ]
    },
    {
     "data": {
      "image/png": "[encoded data removed]",
      "text/plain": [
       "<Figure size 504x504 with 1 Axes>"
      ]
     },
     "metadata": {
      "needs_background": "light"
     },
     "output_type": "display_data"
    }
   ],
   "source": [
    "predict_n_draw(1, 1e-5, {False: end_lambda, True: 1e100})"
   ]
  },
  {
   "cell_type": "code",
   "execution_count": 231,
   "metadata": {},
   "outputs": [
    {
     "data": {
      "text/plain": [
       "(1.8847656258115234e+139, 0.8614678899082568)"
      ]
     },
     "execution_count": 231,
     "metadata": {},
     "output_type": "execute_result"
    }
   ],
   "source": [
    "dots[-1]"
   ]
  },
  {
   "cell_type": "code",
   "execution_count": null,
   "metadata": {},
   "outputs": [],
   "source": []
  }
 ],
 "metadata": {
  "kernelspec": {
   "display_name": "Python 3",
   "language": "python",
   "name": "python3"
  },
  "language_info": {
   "codemirror_mode": {
    "name": "ipython",
    "version": 3
   },
   "file_extension": ".py",
   "mimetype": "text/x-python",
   "name": "python",
   "nbconvert_exporter": "python",
   "pygments_lexer": "ipython3",
   "version": "3.8.5"
  }
 },
 "nbformat": 4,
 "nbformat_minor": 4
}
